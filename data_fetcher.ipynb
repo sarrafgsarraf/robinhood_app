{
 "cells": [
  {
   "cell_type": "code",
   "execution_count": 1,
   "metadata": {},
   "outputs": [],
   "source": [
    "from crontab import CronTab\n",
    "import time\n",
    "import yfinance as yf\n",
    "import pandas as pd\n",
    "import datetime\n",
    "import pytz\n",
    "from pandas.tseries.holiday import USFederalHolidayCalendar\n",
    "import os"
   ]
  },
  {
   "cell_type": "code",
   "execution_count": 13,
   "metadata": {},
   "outputs": [],
   "source": [
    "def download_data(filename, tickers):\n",
    "    try:\n",
    "        data = yf.download(tickers, period=\"1d\")\n",
    "        data = data.swaplevel(axis=1).sort_index(axis=1)  # Swap and sort column levels\n",
    "        data = data.round(4)  # Round to 3 decimal places\n",
    "\n",
    "        # Replace index with current date and time\n",
    "        current_datetime = datetime.datetime.now(pytz.timezone('US/Eastern'))\n",
    "        data.index = [current_datetime for _ in range(len(data.index))]\n",
    "\n",
    "        # If file does not exist, write with header, otherwise skip the header\n",
    "        if not os.path.isfile(filename): data.to_csv(filename)\n",
    "        else: data.to_csv(filename, mode='a', header=False)\n",
    "\n",
    "        #print(\"Downloaded data for \", tickers)\n",
    "    except Exception as e:\n",
    "        print(\"Could not download data: \", e)\n",
    "        data = pd.DataFrame()\n",
    "\n",
    "\n",
    "def is_market_open():\n",
    "    # Current date and time in Eastern Time\n",
    "    now = datetime.datetime.now(pytz.timezone('US/Eastern'))\n",
    "\n",
    "    # Check if today is a holiday\n",
    "    cal = USFederalHolidayCalendar()\n",
    "    holidays = cal.holidays(start='2023-01-01', end='2025-12-31').date  # List of federal holidays\n",
    "    if now.date() in holidays: return False #Change this value to True for testing only\n",
    "\n",
    "    # Check if it's a weekday\n",
    "    if now.weekday() < 5:  \n",
    "        # Check if the current time is within market hours\n",
    "        if datetime.time(9, 30) <= now.time() <= datetime.time(16, 0):  return True\n",
    "    return False #Change this value to True for testing only\n",
    "\n",
    "def next_market_open_time():\n",
    "    # Current date and time in Eastern Time\n",
    "    now = datetime.datetime.now(pytz.timezone('US/Eastern'))\n",
    "    \n",
    "    if now.time() > datetime.time(16, 0) or now.date().weekday() >= 5:\n",
    "        # If it's after market close or it's the weekend, set the next market open to the next weekday at 9:30\n",
    "        next_day = now + datetime.timedelta(days=1)\n",
    "        while next_day.weekday() >= 5:  # If it's the weekend, move to the next day\n",
    "            next_day += datetime.timedelta(days=1)\n",
    "        next_open = pytz.timezone('US/Eastern').localize(datetime.datetime(next_day.year, next_day.month, next_day.day, 9, 30))\n",
    "    elif now.time() < datetime.time(9, 30):\n",
    "        # If it's before market open, set the next market open to the current day at 9:30\n",
    "        next_open = pytz.timezone('US/Eastern').localize(datetime.datetime(now.year, now.month, now.day, 9, 30))\n",
    "    else:\n",
    "        # If it's during market hours, set the next market open to the current day at 16:00\n",
    "        next_open = pytz.timezone('US/Eastern').localize(datetime.datetime(now.year, now.month, now.day, 16, 0))\n",
    "    \n",
    "    return next_open\n",
    "\n"
   ]
  },
  {
   "cell_type": "code",
   "execution_count": 14,
   "metadata": {},
   "outputs": [
    {
     "name": "stdout",
     "output_type": "stream",
     "text": [
      "Market is closed.\n",
      "Markets will open next on: 2023-07-14 09:30:00-04:00\n",
      "2023-07-14 09:30:00-04:00\n",
      "2023-07-14 08:41:08.073569-04:00\n",
      "0:48:51.926431\n",
      "Sleeping for 2931.926351 seconds until the next market open.\n"
     ]
    },
    {
     "ename": "KeyboardInterrupt",
     "evalue": "",
     "output_type": "error",
     "traceback": [
      "\u001b[0;31m---------------------------------------------------------------------------\u001b[0m",
      "\u001b[0;31mKeyboardInterrupt\u001b[0m                         Traceback (most recent call last)",
      "Cell \u001b[0;32mIn[14], line 26\u001b[0m\n\u001b[1;32m     22\u001b[0m             time\u001b[39m.\u001b[39msleep(sleep_seconds)\n\u001b[1;32m     25\u001b[0m \u001b[39mif\u001b[39;00m \u001b[39m__name__\u001b[39m \u001b[39m==\u001b[39m \u001b[39m\"\u001b[39m\u001b[39m__main__\u001b[39m\u001b[39m\"\u001b[39m:\n\u001b[0;32m---> 26\u001b[0m     main()\n",
      "Cell \u001b[0;32mIn[14], line 22\u001b[0m, in \u001b[0;36mmain\u001b[0;34m()\u001b[0m\n\u001b[1;32m     20\u001b[0m sleep_seconds \u001b[39m=\u001b[39m (next_open \u001b[39m-\u001b[39m datetime\u001b[39m.\u001b[39mdatetime\u001b[39m.\u001b[39mnow(pytz\u001b[39m.\u001b[39mtimezone(\u001b[39m'\u001b[39m\u001b[39mUS/Eastern\u001b[39m\u001b[39m'\u001b[39m)))\u001b[39m.\u001b[39mtotal_seconds()\n\u001b[1;32m     21\u001b[0m \u001b[39mprint\u001b[39m(\u001b[39mf\u001b[39m\u001b[39m\"\u001b[39m\u001b[39mSleeping for \u001b[39m\u001b[39m{\u001b[39;00msleep_seconds\u001b[39m}\u001b[39;00m\u001b[39m seconds until the next market open.\u001b[39m\u001b[39m\"\u001b[39m)\n\u001b[0;32m---> 22\u001b[0m time\u001b[39m.\u001b[39;49msleep(sleep_seconds)\n",
      "\u001b[0;31mKeyboardInterrupt\u001b[0m: "
     ]
    }
   ],
   "source": [
    "def main():\n",
    "    tickers = [\"NVDA\", \"MSFT\", \"HON\", \"TSLA\", \"AAPL\", \"SPY\", \"VTWG\", \"XSVM\", \"QQQ\", \"GOOGL\", \"AMZN\", \"META\", \"JNJ\", \"XLE\", \"IYF\", \"ASTR\", \"AMT\", \"CAT\", \"SCHB\", \"LUMN\", \"WFC\", \"SBSW\", \"WAL\", \"CTRA\", \"REK\", \"GEO\", \"NOV\", \"DVN\", \"PACW\", \"HBAN\", \"NYCB\", \"BKI\", \"BABA\", \"JD\", \"SIG\", \"COF\", \"CI\", \"LILAK\", \"ZM\", \"COHR\"]\n",
    "\n",
    "    while True:\n",
    "        if is_market_open():\n",
    "            now = datetime.datetime.now()\n",
    "            filename = \"stock_prices_\" + now.strftime(\"%Y_%m_%d\") + \".csv\"  # replace with your preferred filename\n",
    "            download_data(filename, tickers)\n",
    "            time.sleep(20)  # wait for 10 seconds\n",
    "            \n",
    "        if not is_market_open():\n",
    "            print(\"Market is closed.\")\n",
    "            next_open = next_market_open_time()\n",
    "            print(\"Markets will open next on:\", next_open)\n",
    "            print(next_open)\n",
    "            test = datetime.datetime.now(pytz.timezone('US/Eastern'))\n",
    "            test2 = next_open - test\n",
    "            print(test)\n",
    "            print(test2)\n",
    "            sleep_seconds = (next_open - datetime.datetime.now(pytz.timezone('US/Eastern'))).total_seconds()\n",
    "            print(f\"Sleeping for {sleep_seconds} seconds until the next market open.\")\n",
    "            time.sleep(sleep_seconds)\n",
    "\n",
    "\n",
    "if __name__ == \"__main__\":\n",
    "    main()"
   ]
  }
 ],
 "metadata": {
  "kernelspec": {
   "display_name": "Python 3",
   "language": "python",
   "name": "python3"
  },
  "language_info": {
   "codemirror_mode": {
    "name": "ipython",
    "version": 3
   },
   "file_extension": ".py",
   "mimetype": "text/x-python",
   "name": "python",
   "nbconvert_exporter": "python",
   "pygments_lexer": "ipython3",
   "version": "3.9.2"
  },
  "orig_nbformat": 4
 },
 "nbformat": 4,
 "nbformat_minor": 2
}
